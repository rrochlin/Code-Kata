{
 "cells": [
  {
   "cell_type": "code",
   "execution_count": 1,
   "metadata": {},
   "outputs": [],
   "source": [
    "import matplotlib.pyplot as plt\n",
    "import matplotlib.image as mpimg"
   ]
  },
  {
   "cell_type": "code",
   "execution_count": 4,
   "metadata": {},
   "outputs": [],
   "source": [
    "img = mpimg.imread('pics/chessboard.png')\n"
   ]
  },
  {
   "cell_type": "code",
   "execution_count": 27,
   "metadata": {},
   "outputs": [],
   "source": [
    "def swap_notation(point):\n",
    "    return chr(point[0]+96)+str(point[1])\n",
    "\n",
    "MOVE_LIST = [[-2,-1],[-2,1],[2,-1],[2,1],[-1,-2],[-1,2],[1,-2],[1,2]]\n",
    "\n",
    "def pythag(p1,p2):\n",
    "    return ((p1[0]-p2[0])**2+(p1[1]-p2[1])**2)**.5\n",
    "\n",
    "def gen_next_points(point_list : list, visited_points = set()):\n",
    "    point_set = set()\n",
    "    for p in point_list:\n",
    "        temp_list = [(move[0] + p[0], move[1] + p[1]) for move in MOVE_LIST if 0 < move[0] + p[0] < 9 and 0 < move[1] + p[1] < 9 and (move[0] + p[0], move[1] + p[1]) not in visited_points]\n",
    "        for el in temp_list:\n",
    "            point_set.add(el)\n",
    "        # print(point_set)\n",
    "    return list(point_set)\n",
    "\n",
    "def solve(matrix, visited_points, end):\n",
    "    plt.figure()\n",
    "    plt.scatter(end[0],end[1],color = 'red', s = 50)\n",
    "    plt.scatter([p[0] for p in matrix],[p[1] for p in matrix])\n",
    "    plt.xlim(0.5,8.5)\n",
    "    plt.ylim(0.5,8.5)\n",
    "    plt.imshow(img, extent=(0.5,8.5,0.5,8.5))\n",
    "    if not matrix:\n",
    "        return\n",
    "    for point in matrix:\n",
    "        if point == end:\n",
    "            return 1\n",
    "        visited_points.add(point)\n",
    "    new_matrix = [new_p1 for new_p1 in gen_next_points(matrix, visited_points) if new_p1 not in visited_points]\n",
    "    ans = solve(new_matrix, visited_points, end)\n",
    "    if isinstance(ans, int):\n",
    "        return ans + 1\n",
    "\n",
    "def knight(p1, p2, visited_points = set()):\n",
    "    # assume that we're never given p1 = p2\n",
    "    start, end = (ord(p1[0])-96, int(p1[1])), (ord(p2[0])-96, int(p2[1]))\n",
    "    visited_points.add(start)\n",
    "    plt.figure()\n",
    "    plt.scatter(end[0],end[1],color = 'red', s = 50)\n",
    "    plt.scatter(start[0],start[1])\n",
    "    plt.xlim(0.5,8.5)\n",
    "    plt.ylim(0.5,8.5)\n",
    "    plt.imshow(img, extent=(0.5,8.5,0.5,8.5))\n",
    "    new_p1_matrix = [new_p1 for new_p1 in gen_next_points([start])]\n",
    "    return solve(new_p1_matrix, visited_points, end)"
   ]
  },
  {
   "cell_type": "code",
   "execution_count": 31,
   "metadata": {},
   "outputs": [
    {
     "data": {
      "image/png": "[encoded data removed]",
      "text/plain": [
       "<Figure size 432x288 with 1 Axes>"
      ]
     },
     "metadata": {
      "needs_background": "light"
     },
     "output_type": "display_data"
    },
    {
     "data": {
      "image/png": "[encoded data removed]",
      "text/plain": [
       "<Figure size 432x288 with 1 Axes>"
      ]
     },
     "metadata": {
      "needs_background": "light"
     },
     "output_type": "display_data"
    },
    {
     "data": {
      "image/png": "[encoded data removed]",
      "text/plain": [
       "<Figure size 432x288 with 1 Axes>"
      ]
     },
     "metadata": {
      "needs_background": "light"
     },
     "output_type": "display_data"
    }
   ],
   "source": [
    "knight(\"a3\",\"f7\")"
   ]
  },
  {
   "cell_type": "code",
   "execution_count": null,
   "metadata": {},
   "outputs": [],
   "source": []
  }
 ],
 "metadata": {
  "kernelspec": {
   "display_name": "Python 3.8.3 ('dataAnalysis': venv)",
   "language": "python",
   "name": "python3"
  },
  "language_info": {
   "codemirror_mode": {
    "name": "ipython",
    "version": 3
   },
   "file_extension": ".py",
   "mimetype": "text/x-python",
   "name": "python",
   "nbconvert_exporter": "python",
   "pygments_lexer": "ipython3",
   "version": "3.8.3"
  },
  "orig_nbformat": 4,
  "vscode": {
   "interpreter": {
    "hash": "e5fe138619d2592662a9a79b5f5a04a198e71cb60edca63a08337518bad388b5"
   }
  }
 },
 "nbformat": 4,
 "nbformat_minor": 2
}

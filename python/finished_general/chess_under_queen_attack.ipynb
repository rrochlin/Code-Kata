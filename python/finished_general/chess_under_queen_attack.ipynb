{
 "cells": [
  {
   "cell_type": "code",
   "execution_count": 1,
   "metadata": {},
   "outputs": [],
   "source": [
    "# https://www.codewars.com/kata/578e55c275ffd11cb3001045/train/python\n",
    "def under_attack(i, j, a, b):\n",
    "    # Create Board\n",
    "    board = [[0]*a for _ in range(b)]\n",
    "\n",
    "    # Horizontal Squares\n",
    "    board[j] = [1]*a\n",
    "\n",
    "    # Vertical Squares\n",
    "    for row in range(b):\n",
    "        board[row][i] = 1\n",
    "\n",
    "    # Diagnol Squares\n",
    "    pos = (0, min(j-i, b-1)) if j > i else (min(i-j, a-1), 0)\n",
    "    neg = (min(i+j, a-1), 0) if i+j > b else (a-1, )\n",
    "    for _ in range(min(a, b)):\n",
    "        board[pos[1]][pos[0]] = 1\n",
    "        board[neg[1]][neg[0]] = 1\n",
    "        print(neg)\n",
    "        if 1 + pos[0] < a and 1 + pos[1] < b:\n",
    "            pos = (pos[0] + 1, pos[1] + 1)\n",
    "        if neg[0] - 1 >= 0 and 1 + neg[1] < b:\n",
    "            neg = (neg[0] - 1, neg[1] + 1)\n",
    "\n",
    "    # Remove Square Queen is on\n",
    "    res = sum([sum(row) for row in board]) - 1\n",
    "    board[j][i] = 8\n",
    "    print()\n",
    "    for row in board:\n",
    "        print(row)\n",
    "    print()\n",
    "    return res  # remove one for the square the queens on\n",
    "\n",
    "\n",
    "def chessboard_squares_under_queen_attack(a, b):\n",
    "    total = 0\n",
    "    for i in range(a):\n",
    "        for j in range(b):\n",
    "            total += under_attack(i, j, a, b)\n",
    "    return total\n"
   ]
  },
  {
   "cell_type": "code",
   "execution_count": 2,
   "metadata": {},
   "outputs": [
    {
     "ename": "IndexError",
     "evalue": "tuple index out of range",
     "output_type": "error",
     "traceback": [
      "\u001b[1;31m---------------------------------------------------------------------------\u001b[0m",
      "\u001b[1;31mIndexError\u001b[0m                                Traceback (most recent call last)",
      "\u001b[1;32mc:\\Users\\RobertRochlin\\Documents\\software\\Coding Files\\codeWarsPractice\\python\\finished_general\\chess_under_queen_attack.ipynb Cell 2\u001b[0m in \u001b[0;36m<cell line: 1>\u001b[1;34m()\u001b[0m\n\u001b[1;32m----> <a href='vscode-notebook-cell:/c%3A/Users/RobertRochlin/Documents/software/Coding%20Files/codeWarsPractice/python/finished_general/chess_under_queen_attack.ipynb#W1sZmlsZQ%3D%3D?line=0'>1</a>\u001b[0m chessboard_squares_under_queen_attack(\u001b[39m5\u001b[39;49m,\u001b[39m5\u001b[39;49m)\n",
      "\u001b[1;32mc:\\Users\\RobertRochlin\\Documents\\software\\Coding Files\\codeWarsPractice\\python\\finished_general\\chess_under_queen_attack.ipynb Cell 2\u001b[0m in \u001b[0;36mchessboard_squares_under_queen_attack\u001b[1;34m(a, b)\u001b[0m\n\u001b[0;32m     <a href='vscode-notebook-cell:/c%3A/Users/RobertRochlin/Documents/software/Coding%20Files/codeWarsPractice/python/finished_general/chess_under_queen_attack.ipynb#W1sZmlsZQ%3D%3D?line=36'>37</a>\u001b[0m \u001b[39mfor\u001b[39;00m i \u001b[39min\u001b[39;00m \u001b[39mrange\u001b[39m(a):\n\u001b[0;32m     <a href='vscode-notebook-cell:/c%3A/Users/RobertRochlin/Documents/software/Coding%20Files/codeWarsPractice/python/finished_general/chess_under_queen_attack.ipynb#W1sZmlsZQ%3D%3D?line=37'>38</a>\u001b[0m     \u001b[39mfor\u001b[39;00m j \u001b[39min\u001b[39;00m \u001b[39mrange\u001b[39m(b):\n\u001b[1;32m---> <a href='vscode-notebook-cell:/c%3A/Users/RobertRochlin/Documents/software/Coding%20Files/codeWarsPractice/python/finished_general/chess_under_queen_attack.ipynb#W1sZmlsZQ%3D%3D?line=38'>39</a>\u001b[0m         total \u001b[39m+\u001b[39m\u001b[39m=\u001b[39m under_attack(i, j, a, b)\n\u001b[0;32m     <a href='vscode-notebook-cell:/c%3A/Users/RobertRochlin/Documents/software/Coding%20Files/codeWarsPractice/python/finished_general/chess_under_queen_attack.ipynb#W1sZmlsZQ%3D%3D?line=39'>40</a>\u001b[0m \u001b[39mreturn\u001b[39;00m total\n",
      "\u001b[1;32mc:\\Users\\RobertRochlin\\Documents\\software\\Coding Files\\codeWarsPractice\\python\\finished_general\\chess_under_queen_attack.ipynb Cell 2\u001b[0m in \u001b[0;36munder_attack\u001b[1;34m(i, j, a, b)\u001b[0m\n\u001b[0;32m     <a href='vscode-notebook-cell:/c%3A/Users/RobertRochlin/Documents/software/Coding%20Files/codeWarsPractice/python/finished_general/chess_under_queen_attack.ipynb#W1sZmlsZQ%3D%3D?line=15'>16</a>\u001b[0m \u001b[39mfor\u001b[39;00m _ \u001b[39min\u001b[39;00m \u001b[39mrange\u001b[39m(\u001b[39mmin\u001b[39m(a, b)):\n\u001b[0;32m     <a href='vscode-notebook-cell:/c%3A/Users/RobertRochlin/Documents/software/Coding%20Files/codeWarsPractice/python/finished_general/chess_under_queen_attack.ipynb#W1sZmlsZQ%3D%3D?line=16'>17</a>\u001b[0m     board[pos[\u001b[39m1\u001b[39m]][pos[\u001b[39m0\u001b[39m]] \u001b[39m=\u001b[39m \u001b[39m1\u001b[39m\n\u001b[1;32m---> <a href='vscode-notebook-cell:/c%3A/Users/RobertRochlin/Documents/software/Coding%20Files/codeWarsPractice/python/finished_general/chess_under_queen_attack.ipynb#W1sZmlsZQ%3D%3D?line=17'>18</a>\u001b[0m     board[neg[\u001b[39m1\u001b[39;49m]][neg[\u001b[39m0\u001b[39m]] \u001b[39m=\u001b[39m \u001b[39m1\u001b[39m\n\u001b[0;32m     <a href='vscode-notebook-cell:/c%3A/Users/RobertRochlin/Documents/software/Coding%20Files/codeWarsPractice/python/finished_general/chess_under_queen_attack.ipynb#W1sZmlsZQ%3D%3D?line=18'>19</a>\u001b[0m     \u001b[39mprint\u001b[39m(neg)\n\u001b[0;32m     <a href='vscode-notebook-cell:/c%3A/Users/RobertRochlin/Documents/software/Coding%20Files/codeWarsPractice/python/finished_general/chess_under_queen_attack.ipynb#W1sZmlsZQ%3D%3D?line=19'>20</a>\u001b[0m     \u001b[39mif\u001b[39;00m \u001b[39m1\u001b[39m \u001b[39m+\u001b[39m pos[\u001b[39m0\u001b[39m] \u001b[39m<\u001b[39m a \u001b[39mand\u001b[39;00m \u001b[39m1\u001b[39m \u001b[39m+\u001b[39m pos[\u001b[39m1\u001b[39m] \u001b[39m<\u001b[39m b:\n",
      "\u001b[1;31mIndexError\u001b[0m: tuple index out of range"
     ]
    }
   ],
   "source": [
    "chessboard_squares_under_queen_attack(5,5)"
   ]
  },
  {
   "cell_type": "code",
   "execution_count": null,
   "metadata": {},
   "outputs": [],
   "source": []
  }
 ],
 "metadata": {
  "kernelspec": {
   "display_name": "Python 3",
   "language": "python",
   "name": "python3"
  },
  "language_info": {
   "codemirror_mode": {
    "name": "ipython",
    "version": 3
   },
   "file_extension": ".py",
   "mimetype": "text/x-python",
   "name": "python",
   "nbconvert_exporter": "python",
   "pygments_lexer": "ipython3",
   "version": "3.8.3"
  },
  "orig_nbformat": 4,
  "vscode": {
   "interpreter": {
    "hash": "e5fe138619d2592662a9a79b5f5a04a198e71cb60edca63a08337518bad388b5"
   }
  }
 },
 "nbformat": 4,
 "nbformat_minor": 2
}

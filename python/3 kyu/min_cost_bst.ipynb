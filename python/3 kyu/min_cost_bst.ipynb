{
 "cells": [
  {
   "cell_type": "code",
   "execution_count": 1,
   "metadata": {},
   "outputs": [],
   "source": [
    "# https://www.codewars.com/kata/571a7c0cf24bdf99a8000df5/train/python\n",
    "from collections import deque\n",
    "from heapq import merge"
   ]
  },
  {
   "cell_type": "code",
   "execution_count": 2,
   "metadata": {},
   "outputs": [],
   "source": [
    "\n",
    "class Tree(object):\n",
    "\n",
    "    def __init__(self, root, left=None, right=None):\n",
    "        assert root and type(root) == Node\n",
    "        if left:\n",
    "            assert type(left) == Tree and left.root < root\n",
    "        if right:\n",
    "            assert type(right) == Tree and root < right.root\n",
    "\n",
    "        self.left = left\n",
    "        self.root = root\n",
    "        self.right = right\n",
    "\n",
    "    def is_leaf(self):\n",
    "        return not (self.left or self.right)\n",
    "\n",
    "    def __str__(self):\n",
    "        if self.is_leaf():\n",
    "            return f\"[{str(self.root)}]\"\n",
    "        else:\n",
    "            left = str(self.left) if self.left else \"_\"\n",
    "            right = str(self.right) if self.right else \"_\"\n",
    "            return f\"[{left} {str(self.root)} {right}]\"\n",
    "\n",
    "    def __eq__(self, other):\n",
    "        return str(self) == str(other)\n",
    "\n",
    "    def __ne__(self, other):\n",
    "        return not (self == other)\n",
    "\n",
    "\n",
    "class Node(object):\n",
    "\n",
    "    def __init__(self, value, weight=1):\n",
    "        self.value = value\n",
    "        self.weight = weight\n",
    "\n",
    "    def __str__(self):\n",
    "        return '%s:%d' % (self.value, self.weight)\n",
    "\n",
    "    def __lt__(self, other):\n",
    "        return self.value < other.value\n",
    "\n",
    "    def __gt__(self, other):\n",
    "        return self.value > other.value\n",
    "\n",
    "    def __eq__(self, other):\n",
    "        return self.value == other.value\n",
    "\n",
    "    def __ne__(self, other):\n",
    "        return self.value != other.value\n",
    "\n",
    "\n",
    "def cost(tree, depth=1):\n",
    "    '''\n",
    "    Returns the cost of a tree which root is depth deep.\n",
    "    '''\n",
    "    result = tree.root.weight * depth\n",
    "    if tree.left:\n",
    "        result += cost(tree.left, depth + 1)\n",
    "    if tree.right:\n",
    "        result += cost(tree.right, depth + 1)\n",
    "    return result\n",
    "\n"
   ]
  },
  {
   "cell_type": "code",
   "execution_count": 35,
   "metadata": {},
   "outputs": [],
   "source": [
    "def insert_into_Tree(tree, node):\n",
    "    if node > tree.root:\n",
    "        if not tree.right:\n",
    "            tree.right = Tree(node)\n",
    "        else:\n",
    "            tree.right = insert_into_Tree(tree.right, node)\n",
    "    elif node < tree.root:\n",
    "        if not tree.left:\n",
    "            tree.left = Tree(node)\n",
    "        else:\n",
    "            tree.left = insert_into_Tree(tree.left, node)\n",
    "    return tree\n",
    "\n",
    "\n",
    "MERGE_LAMBDA = lambda x, y: x[0] >= y[0]\n",
    "\n",
    "\n",
    "def parse_queue(queue):\n",
    "    _, tree, node_list = queue.popleft()\n",
    "    if not node_list:\n",
    "        return tree\n",
    "    sub_queue = []\n",
    "    for node in node_list:\n",
    "        new_tree = insert_into_Tree(tree, node)\n",
    "        new_node_list = node_list.copy()\n",
    "        new_node_list.remove(node)\n",
    "        sub_queue.append((cost(new_tree), new_tree, new_node_list))\n",
    "    new_queue = deque(merge(queue, sorted(sub_queue)))\n",
    "    return parse_queue(new_queue)\n",
    "\n",
    "\n",
    "def make_min_tree(node_list):\n",
    "    '''\n",
    "    node_list is a list of Node objects\n",
    "    Pre-cond: len(node_list > 0) and node_list is sorted in ascending order\n",
    "    Returns a minimal cost tree of all nodes in node_list.\n",
    "    '''\n",
    "    queue = []\n",
    "    for node in node_list:\n",
    "        temp_Tree = Tree(node)\n",
    "        temp_node_list = node_list.copy()\n",
    "        temp_node_list.remove(node)\n",
    "        queue.append((cost(temp_Tree), temp_Tree, temp_node_list))\n",
    "    queue = deque(sorted(queue))\n",
    "    return parse_queue(queue)"
   ]
  },
  {
   "cell_type": "code",
   "execution_count": 3,
   "metadata": {},
   "outputs": [],
   "source": [
    "a = Node('A', 10)\n",
    "b = Node('B', 2)\n",
    "c = Node('C', 4)\n",
    "d = Node('D', 9)\n",
    "e = Node('E', 8)"
   ]
  },
  {
   "cell_type": "code",
   "execution_count": 36,
   "metadata": {},
   "outputs": [
    {
     "ename": "TypeError",
     "evalue": "'<' not supported between instances of 'Tree' and 'Tree'",
     "output_type": "error",
     "traceback": [
      "\u001b[0;31m---------------------------------------------------------------------------\u001b[0m",
      "\u001b[0;31mTypeError\u001b[0m                                 Traceback (most recent call last)",
      "Cell \u001b[0;32mIn[36], line 4\u001b[0m\n\u001b[1;32m      1\u001b[0m tree_abcde2 \u001b[39m=\u001b[39m Tree(d, Tree(a, \u001b[39mNone\u001b[39;00m, Tree(c, Tree(b), \u001b[39mNone\u001b[39;00m)), Tree(e))\n\u001b[1;32m      2\u001b[0m \u001b[39m# print(tree_abcde2)\u001b[39;00m\n\u001b[1;32m      3\u001b[0m \u001b[39m# print(cost(tree_abcde2))\u001b[39;00m\n\u001b[0;32m----> 4\u001b[0m \u001b[39mprint\u001b[39m(make_min_tree([a, b, c, d, e]))\n\u001b[1;32m      5\u001b[0m \u001b[39m'\u001b[39m\u001b[39m[[_ A:10 [[B:2] C:4 _]] D:9 [E:8]]\u001b[39m\u001b[39m'\u001b[39m\n",
      "Cell \u001b[0;32mIn[35], line 45\u001b[0m, in \u001b[0;36mmake_min_tree\u001b[0;34m(node_list)\u001b[0m\n\u001b[1;32m     43\u001b[0m     queue\u001b[39m.\u001b[39mappend((cost(temp_Tree), temp_Tree, temp_node_list))\n\u001b[1;32m     44\u001b[0m queue \u001b[39m=\u001b[39m deque(\u001b[39msorted\u001b[39m(queue))\n\u001b[0;32m---> 45\u001b[0m \u001b[39mreturn\u001b[39;00m parse_queue(queue)\n",
      "Cell \u001b[0;32mIn[35], line 29\u001b[0m, in \u001b[0;36mparse_queue\u001b[0;34m(queue)\u001b[0m\n\u001b[1;32m     27\u001b[0m     sub_queue\u001b[39m.\u001b[39mappend((cost(new_tree), new_tree, new_node_list))\n\u001b[1;32m     28\u001b[0m new_queue \u001b[39m=\u001b[39m deque(merge(queue, \u001b[39msorted\u001b[39m(sub_queue)))\n\u001b[0;32m---> 29\u001b[0m \u001b[39mreturn\u001b[39;00m parse_queue(new_queue)\n",
      "Cell \u001b[0;32mIn[35], line 28\u001b[0m, in \u001b[0;36mparse_queue\u001b[0;34m(queue)\u001b[0m\n\u001b[1;32m     26\u001b[0m     new_node_list\u001b[39m.\u001b[39mremove(node)\n\u001b[1;32m     27\u001b[0m     sub_queue\u001b[39m.\u001b[39mappend((cost(new_tree), new_tree, new_node_list))\n\u001b[0;32m---> 28\u001b[0m new_queue \u001b[39m=\u001b[39m deque(merge(queue, \u001b[39msorted\u001b[39;49m(sub_queue)))\n\u001b[1;32m     29\u001b[0m \u001b[39mreturn\u001b[39;00m parse_queue(new_queue)\n",
      "File \u001b[0;32m/Library/Developer/CommandLineTools/Library/Frameworks/Python3.framework/Versions/3.9/lib/python3.9/heapq.py:360\u001b[0m, in \u001b[0;36mmerge\u001b[0;34m(key, reverse, *iterables)\u001b[0m\n\u001b[1;32m    358\u001b[0m         \u001b[39myield\u001b[39;00m value\n\u001b[1;32m    359\u001b[0m         s[\u001b[39m0\u001b[39m] \u001b[39m=\u001b[39m \u001b[39mnext\u001b[39m()           \u001b[39m# raises StopIteration when exhausted\u001b[39;00m\n\u001b[0;32m--> 360\u001b[0m         _heapreplace(h, s)      \u001b[39m# restore heap condition\u001b[39;00m\n\u001b[1;32m    361\u001b[0m \u001b[39mexcept\u001b[39;00m \u001b[39mStopIteration\u001b[39;00m:\n\u001b[1;32m    362\u001b[0m     _heappop(h)                 \u001b[39m# remove empty iterator\u001b[39;00m\n",
      "\u001b[0;31mTypeError\u001b[0m: '<' not supported between instances of 'Tree' and 'Tree'"
     ]
    }
   ],
   "source": [
    "\n",
    "tree_abcde2 = Tree(d, Tree(a, None, Tree(c, Tree(b), None)), Tree(e))\n",
    "# print(tree_abcde2)\n",
    "# print(cost(tree_abcde2))\n",
    "print(make_min_tree([a, b, c, d, e]))\n",
    "'[[_ A:10 [[B:2] C:4 _]] D:9 [E:8]]'\n"
   ]
  },
  {
   "cell_type": "code",
   "execution_count": 33,
   "metadata": {},
   "outputs": [],
   "source": [
    "node_list = [a, b, c, d, e]\n",
    "queue = []\n",
    "for node in node_list:\n",
    "    temp_Tree = Tree(node)\n",
    "    temp_node_list = node_list.copy()\n",
    "    temp_node_list.remove(node)\n",
    "    queue.append((cost(temp_Tree), temp_Tree, temp_node_list))\n",
    "queue = deque(sorted(queue))\n",
    "_, tree, node_list = queue.popleft()\n",
    "if not node_list:\n",
    "    print(tree)\n",
    "sub_queue = []\n",
    "for node in node_list:\n",
    "    new_tree = insert_into_Tree(tree, node)\n",
    "    new_node_list = node_list.copy()\n",
    "    new_node_list.remove(node)\n",
    "    sub_queue.append((cost(new_tree), new_tree, new_node_list))\n",
    "new_queue = deque(merge(queue, sorted(sub_queue)))"
   ]
  },
  {
   "cell_type": "code",
   "execution_count": 34,
   "metadata": {},
   "outputs": [
    {
     "data": {
      "text/plain": [
       "deque([(4,\n",
       "        <__main__.Tree at 0x103e886d0>,\n",
       "        [<__main__.Node at 0x1038fff40>,\n",
       "         <__main__.Node at 0x1038ff700>,\n",
       "         <__main__.Node at 0x1038ff7c0>,\n",
       "         <__main__.Node at 0x1038ffa90>]),\n",
       "       (8,\n",
       "        <__main__.Tree at 0x103e887f0>,\n",
       "        [<__main__.Node at 0x1038fff40>,\n",
       "         <__main__.Node at 0x1038ff700>,\n",
       "         <__main__.Node at 0x1038ffd00>,\n",
       "         <__main__.Node at 0x1038ff7c0>]),\n",
       "       (9,\n",
       "        <__main__.Tree at 0x103e88850>,\n",
       "        [<__main__.Node at 0x1038fff40>,\n",
       "         <__main__.Node at 0x1038ff700>,\n",
       "         <__main__.Node at 0x1038ffd00>,\n",
       "         <__main__.Node at 0x1038ffa90>]),\n",
       "       (10,\n",
       "        <__main__.Tree at 0x103e88460>,\n",
       "        [<__main__.Node at 0x1038ff700>,\n",
       "         <__main__.Node at 0x1038ffd00>,\n",
       "         <__main__.Node at 0x1038ff7c0>,\n",
       "         <__main__.Node at 0x1038ffa90>]),\n",
       "       (22,\n",
       "        <__main__.Tree at 0x103e88220>,\n",
       "        [<__main__.Node at 0x1038ffd00>,\n",
       "         <__main__.Node at 0x1038ff7c0>,\n",
       "         <__main__.Node at 0x1038ffa90>]),\n",
       "       (30,\n",
       "        <__main__.Tree at 0x103e88220>,\n",
       "        [<__main__.Node at 0x1038fff40>,\n",
       "         <__main__.Node at 0x1038ff7c0>,\n",
       "         <__main__.Node at 0x1038ffa90>]),\n",
       "       (57,\n",
       "        <__main__.Tree at 0x103e88220>,\n",
       "        [<__main__.Node at 0x1038fff40>,\n",
       "         <__main__.Node at 0x1038ffd00>,\n",
       "         <__main__.Node at 0x1038ffa90>]),\n",
       "       (89,\n",
       "        <__main__.Tree at 0x103e88220>,\n",
       "        [<__main__.Node at 0x1038fff40>,\n",
       "         <__main__.Node at 0x1038ffd00>,\n",
       "         <__main__.Node at 0x1038ff7c0>])])"
      ]
     },
     "execution_count": 34,
     "metadata": {},
     "output_type": "execute_result"
    }
   ],
   "source": [
    "new_queue\n"
   ]
  },
  {
   "cell_type": "code",
   "execution_count": null,
   "metadata": {},
   "outputs": [],
   "source": []
  }
 ],
 "metadata": {
  "kernelspec": {
   "display_name": "Python 3",
   "language": "python",
   "name": "python3"
  },
  "language_info": {
   "codemirror_mode": {
    "name": "ipython",
    "version": 3
   },
   "file_extension": ".py",
   "mimetype": "text/x-python",
   "name": "python",
   "nbconvert_exporter": "python",
   "pygments_lexer": "ipython3",
   "version": "3.9.6"
  },
  "orig_nbformat": 4,
  "vscode": {
   "interpreter": {
    "hash": "31f2aee4e71d21fbe5cf8b01ff0e069b9275f58929596ceb00d14d90e3e16cd6"
   }
  }
 },
 "nbformat": 4,
 "nbformat_minor": 2
}
